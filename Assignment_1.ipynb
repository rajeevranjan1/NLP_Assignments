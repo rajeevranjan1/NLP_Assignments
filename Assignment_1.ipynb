{
 "cells": [
  {
   "cell_type": "markdown",
   "id": "425dad71",
   "metadata": {},
   "source": [
    "# Getting TMDB Data for multi-class classification"
   ]
  },
  {
   "cell_type": "code",
   "execution_count": 1,
   "id": "a0ba0772",
   "metadata": {},
   "outputs": [],
   "source": [
    "#Using API\n",
    "url=\"https://api.themoviedb.org/3/movie/top_rated?api_key=7ce14097cd9673cf8aa48a9a52eee5f9&language=en-US&page=\""
   ]
  },
  {
   "cell_type": "code",
   "execution_count": 2,
   "id": "ea3e94f6",
   "metadata": {},
   "outputs": [],
   "source": [
    "total_pages=471"
   ]
  },
  {
   "cell_type": "code",
   "execution_count": 3,
   "id": "ef5b4c02",
   "metadata": {},
   "outputs": [],
   "source": [
    "# Getting data of all the pages\n",
    "import requests\n",
    "import pandas as pd"
   ]
  },
  {
   "cell_type": "code",
   "execution_count": 4,
   "id": "3d1c258f",
   "metadata": {},
   "outputs": [],
   "source": [
    "data_list=[]"
   ]
  },
  {
   "cell_type": "code",
   "execution_count": 5,
   "id": "05985cf5",
   "metadata": {},
   "outputs": [],
   "source": [
    "\n",
    "for i in range(1,total_pages+1):\n",
    "    data=requests.get(url+str(i))\n",
    "    data_list.extend(data.json()['results'])\n",
    "    "
   ]
  },
  {
   "cell_type": "code",
   "execution_count": 6,
   "id": "f06b6b69",
   "metadata": {},
   "outputs": [],
   "source": [
    "df=pd.DataFrame(data_list)"
   ]
  },
  {
   "cell_type": "code",
   "execution_count": 7,
   "id": "99962bf8",
   "metadata": {},
   "outputs": [],
   "source": [
    "df=df[['title','overview','genre_ids']]"
   ]
  },
  {
   "cell_type": "code",
   "execution_count": 8,
   "id": "73c7e237",
   "metadata": {},
   "outputs": [
    {
     "data": {
      "text/html": [
       "<div>\n",
       "<style scoped>\n",
       "    .dataframe tbody tr th:only-of-type {\n",
       "        vertical-align: middle;\n",
       "    }\n",
       "\n",
       "    .dataframe tbody tr th {\n",
       "        vertical-align: top;\n",
       "    }\n",
       "\n",
       "    .dataframe thead th {\n",
       "        text-align: right;\n",
       "    }\n",
       "</style>\n",
       "<table border=\"1\" class=\"dataframe\">\n",
       "  <thead>\n",
       "    <tr style=\"text-align: right;\">\n",
       "      <th></th>\n",
       "      <th>title</th>\n",
       "      <th>overview</th>\n",
       "      <th>genre_ids</th>\n",
       "    </tr>\n",
       "  </thead>\n",
       "  <tbody>\n",
       "    <tr>\n",
       "      <th>48</th>\n",
       "      <td>Howl's Moving Castle</td>\n",
       "      <td>When Sophie, a shy young woman, is cursed with...</td>\n",
       "      <td>[14, 16, 12]</td>\n",
       "    </tr>\n",
       "    <tr>\n",
       "      <th>4292</th>\n",
       "      <td>Another Earth</td>\n",
       "      <td>On the night of the discovery of a duplicate E...</td>\n",
       "      <td>[18, 878]</td>\n",
       "    </tr>\n",
       "    <tr>\n",
       "      <th>9014</th>\n",
       "      <td>Final Girl</td>\n",
       "      <td>Veronica, the new girl in town, is lured into ...</td>\n",
       "      <td>[28, 18, 53]</td>\n",
       "    </tr>\n",
       "    <tr>\n",
       "      <th>5055</th>\n",
       "      <td>It's Complicated</td>\n",
       "      <td>Ten years after their divorce, Jane and Jake A...</td>\n",
       "      <td>[35, 10749]</td>\n",
       "    </tr>\n",
       "    <tr>\n",
       "      <th>9281</th>\n",
       "      <td>Cell</td>\n",
       "      <td>When a strange signal pulsates through all cel...</td>\n",
       "      <td>[27, 878, 53]</td>\n",
       "    </tr>\n",
       "  </tbody>\n",
       "</table>\n",
       "</div>"
      ],
      "text/plain": [
       "                     title                                           overview  \\\n",
       "48    Howl's Moving Castle  When Sophie, a shy young woman, is cursed with...   \n",
       "4292         Another Earth  On the night of the discovery of a duplicate E...   \n",
       "9014            Final Girl  Veronica, the new girl in town, is lured into ...   \n",
       "5055      It's Complicated  Ten years after their divorce, Jane and Jake A...   \n",
       "9281                  Cell  When a strange signal pulsates through all cel...   \n",
       "\n",
       "          genre_ids  \n",
       "48     [14, 16, 12]  \n",
       "4292      [18, 878]  \n",
       "9014   [28, 18, 53]  \n",
       "5055    [35, 10749]  \n",
       "9281  [27, 878, 53]  "
      ]
     },
     "execution_count": 8,
     "metadata": {},
     "output_type": "execute_result"
    }
   ],
   "source": [
    "df.sample(5)"
   ]
  },
  {
   "cell_type": "code",
   "execution_count": 9,
   "id": "0f1c16af",
   "metadata": {},
   "outputs": [],
   "source": [
    "genre_data=requests.get('https://api.themoviedb.org/3/genre/movie/list?api_key=7ce14097cd9673cf8aa48a9a52eee5f9&language=en-US')"
   ]
  },
  {
   "cell_type": "code",
   "execution_count": 10,
   "id": "678780ba",
   "metadata": {},
   "outputs": [],
   "source": [
    "gl=genre_data.json()['genres']"
   ]
  },
  {
   "cell_type": "code",
   "execution_count": 11,
   "id": "9d735d70",
   "metadata": {},
   "outputs": [],
   "source": [
    "genre_dict={}"
   ]
  },
  {
   "cell_type": "code",
   "execution_count": 12,
   "id": "615098a9",
   "metadata": {},
   "outputs": [],
   "source": [
    "#Updating a dictionary of genres\n",
    "for i in range(len(gl)):\n",
    "    genre_dict[gl[i]['id']]=gl[i]['name']"
   ]
  },
  {
   "cell_type": "code",
   "execution_count": 13,
   "id": "a9e345aa",
   "metadata": {},
   "outputs": [],
   "source": [
    "#Function to convert genre_ids to genres\n",
    "def genre_text(glist):\n",
    "    l=[]\n",
    "    for i in glist:\n",
    "       l.append(genre_dict[i])\n",
    "    return l\n"
   ]
  },
  {
   "cell_type": "code",
   "execution_count": 14,
   "id": "45e04be3",
   "metadata": {},
   "outputs": [],
   "source": [
    "df['genre_ids']=df['genre_ids'].apply(genre_text)"
   ]
  },
  {
   "cell_type": "code",
   "execution_count": 15,
   "id": "b6ea468d",
   "metadata": {},
   "outputs": [
    {
     "data": {
      "text/html": [
       "<div>\n",
       "<style scoped>\n",
       "    .dataframe tbody tr th:only-of-type {\n",
       "        vertical-align: middle;\n",
       "    }\n",
       "\n",
       "    .dataframe tbody tr th {\n",
       "        vertical-align: top;\n",
       "    }\n",
       "\n",
       "    .dataframe thead th {\n",
       "        text-align: right;\n",
       "    }\n",
       "</style>\n",
       "<table border=\"1\" class=\"dataframe\">\n",
       "  <thead>\n",
       "    <tr style=\"text-align: right;\">\n",
       "      <th></th>\n",
       "      <th>title</th>\n",
       "      <th>overview</th>\n",
       "      <th>genre_ids</th>\n",
       "    </tr>\n",
       "  </thead>\n",
       "  <tbody>\n",
       "    <tr>\n",
       "      <th>0</th>\n",
       "      <td>Dilwale Dulhania Le Jayenge</td>\n",
       "      <td>Raj is a rich, carefree, happy-go-lucky second...</td>\n",
       "      <td>[Comedy, Drama, Romance]</td>\n",
       "    </tr>\n",
       "    <tr>\n",
       "      <th>1</th>\n",
       "      <td>The Shawshank Redemption</td>\n",
       "      <td>Framed in the 1940s for the double murder of h...</td>\n",
       "      <td>[Drama, Crime]</td>\n",
       "    </tr>\n",
       "    <tr>\n",
       "      <th>2</th>\n",
       "      <td>The Godfather</td>\n",
       "      <td>Spanning the years 1945 to 1955, a chronicle o...</td>\n",
       "      <td>[Drama, Crime]</td>\n",
       "    </tr>\n",
       "    <tr>\n",
       "      <th>3</th>\n",
       "      <td>Gabriel's Inferno Part II</td>\n",
       "      <td>Professor Gabriel Emerson finally learns the t...</td>\n",
       "      <td>[Romance]</td>\n",
       "    </tr>\n",
       "    <tr>\n",
       "      <th>4</th>\n",
       "      <td>Gabriel's Inferno Part III</td>\n",
       "      <td>The final part of the film adaption of the ero...</td>\n",
       "      <td>[Romance, Comedy]</td>\n",
       "    </tr>\n",
       "    <tr>\n",
       "      <th>...</th>\n",
       "      <td>...</td>\n",
       "      <td>...</td>\n",
       "      <td>...</td>\n",
       "    </tr>\n",
       "    <tr>\n",
       "      <th>9410</th>\n",
       "      <td>Alone in the Dark</td>\n",
       "      <td>Edward Carnby is a private investigator specia...</td>\n",
       "      <td>[Action, Fantasy, Horror]</td>\n",
       "    </tr>\n",
       "    <tr>\n",
       "      <th>9411</th>\n",
       "      <td>Battlefield Earth</td>\n",
       "      <td>In the year 3000, man is no match for the Psyc...</td>\n",
       "      <td>[Action, Adventure, Science Fiction, War]</td>\n",
       "    </tr>\n",
       "    <tr>\n",
       "      <th>9412</th>\n",
       "      <td>House of the Dead</td>\n",
       "      <td>Set on an island off the coast, a techno rave ...</td>\n",
       "      <td>[Horror, Action, Thriller]</td>\n",
       "    </tr>\n",
       "    <tr>\n",
       "      <th>9413</th>\n",
       "      <td>Dragonball Evolution</td>\n",
       "      <td>The young warrior Son Goku sets out on a quest...</td>\n",
       "      <td>[Action, Adventure, Fantasy, Science Fiction, ...</td>\n",
       "    </tr>\n",
       "    <tr>\n",
       "      <th>9414</th>\n",
       "      <td>Birdemic: Shock and Terror</td>\n",
       "      <td>A platoon of eagles and vultures attacks the r...</td>\n",
       "      <td>[Science Fiction, Horror, Romance, Thriller]</td>\n",
       "    </tr>\n",
       "  </tbody>\n",
       "</table>\n",
       "<p>9415 rows × 3 columns</p>\n",
       "</div>"
      ],
      "text/plain": [
       "                            title  \\\n",
       "0     Dilwale Dulhania Le Jayenge   \n",
       "1        The Shawshank Redemption   \n",
       "2                   The Godfather   \n",
       "3       Gabriel's Inferno Part II   \n",
       "4      Gabriel's Inferno Part III   \n",
       "...                           ...   \n",
       "9410            Alone in the Dark   \n",
       "9411            Battlefield Earth   \n",
       "9412            House of the Dead   \n",
       "9413         Dragonball Evolution   \n",
       "9414   Birdemic: Shock and Terror   \n",
       "\n",
       "                                               overview  \\\n",
       "0     Raj is a rich, carefree, happy-go-lucky second...   \n",
       "1     Framed in the 1940s for the double murder of h...   \n",
       "2     Spanning the years 1945 to 1955, a chronicle o...   \n",
       "3     Professor Gabriel Emerson finally learns the t...   \n",
       "4     The final part of the film adaption of the ero...   \n",
       "...                                                 ...   \n",
       "9410  Edward Carnby is a private investigator specia...   \n",
       "9411  In the year 3000, man is no match for the Psyc...   \n",
       "9412  Set on an island off the coast, a techno rave ...   \n",
       "9413  The young warrior Son Goku sets out on a quest...   \n",
       "9414  A platoon of eagles and vultures attacks the r...   \n",
       "\n",
       "                                              genre_ids  \n",
       "0                              [Comedy, Drama, Romance]  \n",
       "1                                        [Drama, Crime]  \n",
       "2                                        [Drama, Crime]  \n",
       "3                                             [Romance]  \n",
       "4                                     [Romance, Comedy]  \n",
       "...                                                 ...  \n",
       "9410                          [Action, Fantasy, Horror]  \n",
       "9411          [Action, Adventure, Science Fiction, War]  \n",
       "9412                         [Horror, Action, Thriller]  \n",
       "9413  [Action, Adventure, Fantasy, Science Fiction, ...  \n",
       "9414       [Science Fiction, Horror, Romance, Thriller]  \n",
       "\n",
       "[9415 rows x 3 columns]"
      ]
     },
     "execution_count": 15,
     "metadata": {},
     "output_type": "execute_result"
    }
   ],
   "source": [
    "df"
   ]
  },
  {
   "cell_type": "markdown",
   "id": "acdf0fae",
   "metadata": {},
   "source": [
    "## Text- Preprocessing"
   ]
  },
  {
   "cell_type": "code",
   "execution_count": null,
   "id": "5279c8c4",
   "metadata": {},
   "outputs": [],
   "source": []
  }
 ],
 "metadata": {
  "kernelspec": {
   "display_name": "Python 3 (ipykernel)",
   "language": "python",
   "name": "python3"
  },
  "language_info": {
   "codemirror_mode": {
    "name": "ipython",
    "version": 3
   },
   "file_extension": ".py",
   "mimetype": "text/x-python",
   "name": "python",
   "nbconvert_exporter": "python",
   "pygments_lexer": "ipython3",
   "version": "3.9.4"
  }
 },
 "nbformat": 4,
 "nbformat_minor": 5
}
