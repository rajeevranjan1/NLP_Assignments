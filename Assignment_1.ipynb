{
 "cells": [
  {
   "cell_type": "markdown",
   "id": "425dad71",
   "metadata": {},
   "source": [
    "# Getting TMDB Data for multi-class classification"
   ]
  },
  {
   "cell_type": "code",
   "execution_count": 1,
   "id": "a0ba0772",
   "metadata": {},
   "outputs": [],
   "source": [
    "#Using API\n",
    "url=\"https://api.themoviedb.org/3/movie/top_rated?api_key=7ce14097cd9673cf8aa48a9a52eee5f9&language=en-US&page=\""
   ]
  },
  {
   "cell_type": "code",
   "execution_count": 2,
   "id": "ea3e94f6",
   "metadata": {},
   "outputs": [],
   "source": [
    "total_pages=471"
   ]
  },
  {
   "cell_type": "code",
   "execution_count": 3,
   "id": "ef5b4c02",
   "metadata": {},
   "outputs": [],
   "source": [
    "# Getting data of all the pages\n",
    "import requests\n",
    "import pandas as pd"
   ]
  },
  {
   "cell_type": "code",
   "execution_count": 4,
   "id": "3d1c258f",
   "metadata": {},
   "outputs": [],
   "source": [
    "data_list=[]"
   ]
  },
  {
   "cell_type": "code",
   "execution_count": 5,
   "id": "05985cf5",
   "metadata": {},
   "outputs": [],
   "source": [
    "\n",
    "for i in range(1,total_pages+1):\n",
    "    data=requests.get(url+str(i))\n",
    "    data_list.extend(data.json()['results'])\n",
    "    "
   ]
  },
  {
   "cell_type": "code",
   "execution_count": 6,
   "id": "f06b6b69",
   "metadata": {},
   "outputs": [],
   "source": [
    "df=pd.DataFrame(data_list)"
   ]
  },
  {
   "cell_type": "code",
   "execution_count": 7,
   "id": "99962bf8",
   "metadata": {},
   "outputs": [],
   "source": [
    "df=df[['title','overview','genre_ids']]"
   ]
  },
  {
   "cell_type": "code",
   "execution_count": 8,
   "id": "73c7e237",
   "metadata": {},
   "outputs": [
    {
     "data": {
      "text/html": [
       "<div>\n",
       "<style scoped>\n",
       "    .dataframe tbody tr th:only-of-type {\n",
       "        vertical-align: middle;\n",
       "    }\n",
       "\n",
       "    .dataframe tbody tr th {\n",
       "        vertical-align: top;\n",
       "    }\n",
       "\n",
       "    .dataframe thead th {\n",
       "        text-align: right;\n",
       "    }\n",
       "</style>\n",
       "<table border=\"1\" class=\"dataframe\">\n",
       "  <thead>\n",
       "    <tr style=\"text-align: right;\">\n",
       "      <th></th>\n",
       "      <th>title</th>\n",
       "      <th>overview</th>\n",
       "      <th>genre_ids</th>\n",
       "    </tr>\n",
       "  </thead>\n",
       "  <tbody>\n",
       "    <tr>\n",
       "      <th>3042</th>\n",
       "      <td>My Brother Chases Dinosaurs</td>\n",
       "      <td>As a child, Jack believed the tender lie his p...</td>\n",
       "      <td>[35, 10751]</td>\n",
       "    </tr>\n",
       "    <tr>\n",
       "      <th>6156</th>\n",
       "      <td>Assassination Nation</td>\n",
       "      <td>High school senior Lily and her friends, Bex, ...</td>\n",
       "      <td>[53, 27, 35]</td>\n",
       "    </tr>\n",
       "    <tr>\n",
       "      <th>2978</th>\n",
       "      <td>The Towering Inferno</td>\n",
       "      <td>At the opening party of a colossal—but poorly ...</td>\n",
       "      <td>[28, 53, 18]</td>\n",
       "    </tr>\n",
       "    <tr>\n",
       "      <th>9122</th>\n",
       "      <td>Green Lantern</td>\n",
       "      <td>For centuries, a small but powerful force of w...</td>\n",
       "      <td>[12, 28, 53, 878]</td>\n",
       "    </tr>\n",
       "    <tr>\n",
       "      <th>7099</th>\n",
       "      <td>Welcome Home Roscoe Jenkins</td>\n",
       "      <td>When a celebrated TV show host returns to his ...</td>\n",
       "      <td>[35, 18]</td>\n",
       "    </tr>\n",
       "  </tbody>\n",
       "</table>\n",
       "</div>"
      ],
      "text/plain": [
       "                            title  \\\n",
       "3042  My Brother Chases Dinosaurs   \n",
       "6156         Assassination Nation   \n",
       "2978         The Towering Inferno   \n",
       "9122                Green Lantern   \n",
       "7099  Welcome Home Roscoe Jenkins   \n",
       "\n",
       "                                               overview          genre_ids  \n",
       "3042  As a child, Jack believed the tender lie his p...        [35, 10751]  \n",
       "6156  High school senior Lily and her friends, Bex, ...       [53, 27, 35]  \n",
       "2978  At the opening party of a colossal—but poorly ...       [28, 53, 18]  \n",
       "9122  For centuries, a small but powerful force of w...  [12, 28, 53, 878]  \n",
       "7099  When a celebrated TV show host returns to his ...           [35, 18]  "
      ]
     },
     "execution_count": 8,
     "metadata": {},
     "output_type": "execute_result"
    }
   ],
   "source": [
    "df.sample(5)"
   ]
  },
  {
   "cell_type": "code",
   "execution_count": 9,
   "id": "0f1c16af",
   "metadata": {},
   "outputs": [],
   "source": [
    "genre_data=requests.get('https://api.themoviedb.org/3/genre/movie/list?api_key=7ce14097cd9673cf8aa48a9a52eee5f9&language=en-US')"
   ]
  },
  {
   "cell_type": "code",
   "execution_count": 10,
   "id": "678780ba",
   "metadata": {},
   "outputs": [],
   "source": [
    "gl=genre_data.json()['genres']"
   ]
  },
  {
   "cell_type": "code",
   "execution_count": 11,
   "id": "9d735d70",
   "metadata": {},
   "outputs": [],
   "source": [
    "genre_dict={}"
   ]
  },
  {
   "cell_type": "code",
   "execution_count": 12,
   "id": "615098a9",
   "metadata": {},
   "outputs": [],
   "source": [
    "#Updating a dictionary of genres\n",
    "for i in range(len(gl)):\n",
    "    genre_dict[gl[i]['id']]=gl[i]['name']"
   ]
  },
  {
   "cell_type": "code",
   "execution_count": 13,
   "id": "a9e345aa",
   "metadata": {},
   "outputs": [],
   "source": [
    "#Function to convert genre_ids to genres\n",
    "def genre_text(glist):\n",
    "    l=[]\n",
    "    for i in glist:\n",
    "       l.append(genre_dict[i])\n",
    "    return l\n"
   ]
  },
  {
   "cell_type": "code",
   "execution_count": 14,
   "id": "45e04be3",
   "metadata": {},
   "outputs": [],
   "source": [
    "df['genre_ids']=df['genre_ids'].apply(genre_text)"
   ]
  },
  {
   "cell_type": "code",
   "execution_count": 15,
   "id": "b6ea468d",
   "metadata": {},
   "outputs": [
    {
     "data": {
      "text/html": [
       "<div>\n",
       "<style scoped>\n",
       "    .dataframe tbody tr th:only-of-type {\n",
       "        vertical-align: middle;\n",
       "    }\n",
       "\n",
       "    .dataframe tbody tr th {\n",
       "        vertical-align: top;\n",
       "    }\n",
       "\n",
       "    .dataframe thead th {\n",
       "        text-align: right;\n",
       "    }\n",
       "</style>\n",
       "<table border=\"1\" class=\"dataframe\">\n",
       "  <thead>\n",
       "    <tr style=\"text-align: right;\">\n",
       "      <th></th>\n",
       "      <th>title</th>\n",
       "      <th>overview</th>\n",
       "      <th>genre_ids</th>\n",
       "    </tr>\n",
       "  </thead>\n",
       "  <tbody>\n",
       "    <tr>\n",
       "      <th>0</th>\n",
       "      <td>Dilwale Dulhania Le Jayenge</td>\n",
       "      <td>Raj is a rich, carefree, happy-go-lucky second...</td>\n",
       "      <td>[Comedy, Drama, Romance]</td>\n",
       "    </tr>\n",
       "    <tr>\n",
       "      <th>1</th>\n",
       "      <td>The Shawshank Redemption</td>\n",
       "      <td>Framed in the 1940s for the double murder of h...</td>\n",
       "      <td>[Drama, Crime]</td>\n",
       "    </tr>\n",
       "    <tr>\n",
       "      <th>2</th>\n",
       "      <td>The Godfather</td>\n",
       "      <td>Spanning the years 1945 to 1955, a chronicle o...</td>\n",
       "      <td>[Drama, Crime]</td>\n",
       "    </tr>\n",
       "    <tr>\n",
       "      <th>3</th>\n",
       "      <td>Gabriel's Inferno Part II</td>\n",
       "      <td>Professor Gabriel Emerson finally learns the t...</td>\n",
       "      <td>[Romance]</td>\n",
       "    </tr>\n",
       "    <tr>\n",
       "      <th>4</th>\n",
       "      <td>Schindler's List</td>\n",
       "      <td>The true story of how businessman Oskar Schind...</td>\n",
       "      <td>[Drama, History, War]</td>\n",
       "    </tr>\n",
       "    <tr>\n",
       "      <th>...</th>\n",
       "      <td>...</td>\n",
       "      <td>...</td>\n",
       "      <td>...</td>\n",
       "    </tr>\n",
       "    <tr>\n",
       "      <th>9415</th>\n",
       "      <td>Superman IV: The Quest for Peace</td>\n",
       "      <td>With global superpowers engaged in an increasi...</td>\n",
       "      <td>[Action, Adventure, Science Fiction]</td>\n",
       "    </tr>\n",
       "    <tr>\n",
       "      <th>9416</th>\n",
       "      <td>Movie 43</td>\n",
       "      <td>Fifteen directors and an all-star cast created...</td>\n",
       "      <td>[Comedy]</td>\n",
       "    </tr>\n",
       "    <tr>\n",
       "      <th>9417</th>\n",
       "      <td>Jason Goes to Hell: The Final Friday</td>\n",
       "      <td>Jason Voorhees, the living, breathing essence ...</td>\n",
       "      <td>[Horror]</td>\n",
       "    </tr>\n",
       "    <tr>\n",
       "      <th>9418</th>\n",
       "      <td>Day of the Dead: Bloodline</td>\n",
       "      <td>In a world overrun by zombies, military person...</td>\n",
       "      <td>[Action, Horror]</td>\n",
       "    </tr>\n",
       "    <tr>\n",
       "      <th>9419</th>\n",
       "      <td>The Scorpion King 3: Battle for Redemption</td>\n",
       "      <td>Since his triumphant rise to power in the orig...</td>\n",
       "      <td>[Action, Adventure, Fantasy, Drama]</td>\n",
       "    </tr>\n",
       "  </tbody>\n",
       "</table>\n",
       "<p>9420 rows × 3 columns</p>\n",
       "</div>"
      ],
      "text/plain": [
       "                                           title  \\\n",
       "0                    Dilwale Dulhania Le Jayenge   \n",
       "1                       The Shawshank Redemption   \n",
       "2                                  The Godfather   \n",
       "3                      Gabriel's Inferno Part II   \n",
       "4                               Schindler's List   \n",
       "...                                          ...   \n",
       "9415            Superman IV: The Quest for Peace   \n",
       "9416                                    Movie 43   \n",
       "9417        Jason Goes to Hell: The Final Friday   \n",
       "9418                  Day of the Dead: Bloodline   \n",
       "9419  The Scorpion King 3: Battle for Redemption   \n",
       "\n",
       "                                               overview  \\\n",
       "0     Raj is a rich, carefree, happy-go-lucky second...   \n",
       "1     Framed in the 1940s for the double murder of h...   \n",
       "2     Spanning the years 1945 to 1955, a chronicle o...   \n",
       "3     Professor Gabriel Emerson finally learns the t...   \n",
       "4     The true story of how businessman Oskar Schind...   \n",
       "...                                                 ...   \n",
       "9415  With global superpowers engaged in an increasi...   \n",
       "9416  Fifteen directors and an all-star cast created...   \n",
       "9417  Jason Voorhees, the living, breathing essence ...   \n",
       "9418  In a world overrun by zombies, military person...   \n",
       "9419  Since his triumphant rise to power in the orig...   \n",
       "\n",
       "                                 genre_ids  \n",
       "0                 [Comedy, Drama, Romance]  \n",
       "1                           [Drama, Crime]  \n",
       "2                           [Drama, Crime]  \n",
       "3                                [Romance]  \n",
       "4                    [Drama, History, War]  \n",
       "...                                    ...  \n",
       "9415  [Action, Adventure, Science Fiction]  \n",
       "9416                              [Comedy]  \n",
       "9417                              [Horror]  \n",
       "9418                      [Action, Horror]  \n",
       "9419   [Action, Adventure, Fantasy, Drama]  \n",
       "\n",
       "[9420 rows x 3 columns]"
      ]
     },
     "execution_count": 15,
     "metadata": {},
     "output_type": "execute_result"
    }
   ],
   "source": [
    "df"
   ]
  },
  {
   "cell_type": "markdown",
   "id": "acdf0fae",
   "metadata": {},
   "source": [
    "## Text- Preprocessing"
   ]
  },
  {
   "cell_type": "code",
   "execution_count": 16,
   "id": "f977696b",
   "metadata": {},
   "outputs": [],
   "source": [
    "# 1. lower casing\n",
    "df['overview']=df['overview'].str.lower()"
   ]
  },
  {
   "cell_type": "code",
   "execution_count": 17,
   "id": "4e467a2c",
   "metadata": {},
   "outputs": [
    {
     "data": {
      "text/html": [
       "<div>\n",
       "<style scoped>\n",
       "    .dataframe tbody tr th:only-of-type {\n",
       "        vertical-align: middle;\n",
       "    }\n",
       "\n",
       "    .dataframe tbody tr th {\n",
       "        vertical-align: top;\n",
       "    }\n",
       "\n",
       "    .dataframe thead th {\n",
       "        text-align: right;\n",
       "    }\n",
       "</style>\n",
       "<table border=\"1\" class=\"dataframe\">\n",
       "  <thead>\n",
       "    <tr style=\"text-align: right;\">\n",
       "      <th></th>\n",
       "      <th>title</th>\n",
       "      <th>overview</th>\n",
       "      <th>genre_ids</th>\n",
       "    </tr>\n",
       "  </thead>\n",
       "  <tbody>\n",
       "    <tr>\n",
       "      <th>0</th>\n",
       "      <td>Dilwale Dulhania Le Jayenge</td>\n",
       "      <td>raj is a rich, carefree, happy-go-lucky second...</td>\n",
       "      <td>[Comedy, Drama, Romance]</td>\n",
       "    </tr>\n",
       "    <tr>\n",
       "      <th>1</th>\n",
       "      <td>The Shawshank Redemption</td>\n",
       "      <td>framed in the 1940s for the double murder of h...</td>\n",
       "      <td>[Drama, Crime]</td>\n",
       "    </tr>\n",
       "  </tbody>\n",
       "</table>\n",
       "</div>"
      ],
      "text/plain": [
       "                         title  \\\n",
       "0  Dilwale Dulhania Le Jayenge   \n",
       "1     The Shawshank Redemption   \n",
       "\n",
       "                                            overview                 genre_ids  \n",
       "0  raj is a rich, carefree, happy-go-lucky second...  [Comedy, Drama, Romance]  \n",
       "1  framed in the 1940s for the double murder of h...            [Drama, Crime]  "
      ]
     },
     "execution_count": 17,
     "metadata": {},
     "output_type": "execute_result"
    }
   ],
   "source": [
    "df.head(2)"
   ]
  },
  {
   "cell_type": "code",
   "execution_count": 18,
   "id": "575459ed",
   "metadata": {},
   "outputs": [
    {
     "data": {
      "text/plain": [
       "0       raj is a rich, carefree, happy-go-lucky second...\n",
       "1       framed in the 1940s for the double murder of h...\n",
       "2       spanning the years 1945 to 1955, a chronicle o...\n",
       "3       professor gabriel emerson finally learns the t...\n",
       "4       the true story of how businessman oskar schind...\n",
       "                              ...                        \n",
       "9415    with global superpowers engaged in an increasi...\n",
       "9416    fifteen directors and an all-star cast created...\n",
       "9417    jason voorhees, the living, breathing essence ...\n",
       "9418    in a world overrun by zombies, military person...\n",
       "9419    since his triumphant rise to power in the orig...\n",
       "Name: overview, Length: 9420, dtype: object"
      ]
     },
     "execution_count": 18,
     "metadata": {},
     "output_type": "execute_result"
    }
   ],
   "source": [
    "df['overview']"
   ]
  },
  {
   "cell_type": "code",
   "execution_count": 19,
   "id": "88e12663",
   "metadata": {},
   "outputs": [],
   "source": [
    "# 2. Removinf HTML tag\n",
    "import re\n",
    "def remove_html_tag(text):\n",
    "    pattern=re.compile(r'<.*?>')\n",
    "    return pattern.sub(r'',text)\n"
   ]
  },
  {
   "cell_type": "code",
   "execution_count": 20,
   "id": "05a588f4",
   "metadata": {},
   "outputs": [],
   "source": [
    "sample_text='<div class=\"devsite-nav-item-title\">TensorFlow Certificate program  </div> <div class=\"devsite-nav-item-description\">  entiate yourself by demonstrating your ML proficiency</div>'"
   ]
  },
  {
   "cell_type": "code",
   "execution_count": 21,
   "id": "3a94351f",
   "metadata": {},
   "outputs": [
    {
     "data": {
      "text/plain": [
       "'TensorFlow Certificate program     entiate yourself by demonstrating your ML proficiency'"
      ]
     },
     "execution_count": 21,
     "metadata": {},
     "output_type": "execute_result"
    }
   ],
   "source": [
    "remove_html_tag(sample_text)"
   ]
  },
  {
   "cell_type": "code",
   "execution_count": 22,
   "id": "cf7c40e3",
   "metadata": {},
   "outputs": [],
   "source": [
    "# Apllying the remove html function\n",
    "df['overview']=df['overview'].apply(remove_html_tag)"
   ]
  },
  {
   "cell_type": "code",
   "execution_count": 23,
   "id": "da25bc9e",
   "metadata": {},
   "outputs": [],
   "source": [
    "# for i in range(100):\n",
    "#     print(i,'*****************************','\\n',df['overview'][i])\n",
    "    "
   ]
  },
  {
   "cell_type": "code",
   "execution_count": 24,
   "id": "80b7c5aa",
   "metadata": {},
   "outputs": [
    {
     "name": "stdout",
     "output_type": "stream",
     "text": [
      "!\"#$%&'()*+,-./:;<=>?@[\\]^_`{|}~\n"
     ]
    }
   ],
   "source": [
    "# 4. Remove punctuation\n",
    "import string\n",
    "exclude=string.punctuation\n",
    "print(exclude)"
   ]
  },
  {
   "cell_type": "code",
   "execution_count": 25,
   "id": "a881f5f0",
   "metadata": {},
   "outputs": [],
   "source": [
    "def remove_punc(text):\n",
    "    for char in exclude:\n",
    "        text=text.replace(char,'')\n",
    "    return text\n"
   ]
  },
  {
   "cell_type": "code",
   "execution_count": 26,
   "id": "df059e32",
   "metadata": {},
   "outputs": [],
   "source": [
    "df['overview']=df['overview'].apply(remove_punc)"
   ]
  },
  {
   "cell_type": "code",
   "execution_count": 27,
   "id": "d5fcfa05",
   "metadata": {},
   "outputs": [],
   "source": [
    "# 6. Spelling Correction\n",
    "from textblob import TextBlob"
   ]
  },
  {
   "cell_type": "code",
   "execution_count": 28,
   "id": "86ef0e1b",
   "metadata": {},
   "outputs": [],
   "source": [
    "incorrect_string='I am not goid to eat in the mornign conditojn when i am feeling hunfry'"
   ]
  },
  {
   "cell_type": "code",
   "execution_count": 29,
   "id": "c65a809f",
   "metadata": {},
   "outputs": [
    {
     "data": {
      "text/plain": [
       "'I am not good to eat in the morning condition when i am feeling hungry'"
      ]
     },
     "execution_count": 29,
     "metadata": {},
     "output_type": "execute_result"
    }
   ],
   "source": [
    "tb=TextBlob(incorrect_string)\n",
    "tb.correct().string"
   ]
  },
  {
   "cell_type": "code",
   "execution_count": 30,
   "id": "a08bc6ad",
   "metadata": {},
   "outputs": [],
   "source": [
    "# 7. Removing StopWords\n",
    "from nltk.corpus import stopwords"
   ]
  },
  {
   "cell_type": "code",
   "execution_count": 31,
   "id": "e34f0ccf",
   "metadata": {},
   "outputs": [],
   "source": [
    "def remove_stopwords(text):\n",
    "    new_text=[]\n",
    "    for word in text.split():\n",
    "        if word in stopwords.words('english'):\n",
    "            new_text.append('')\n",
    "        else:\n",
    "            new_text.append(word)\n",
    "    x=new_text[:]\n",
    "    new_text.clear()\n",
    "    return \" \".join(x)\n"
   ]
  },
  {
   "cell_type": "code",
   "execution_count": 32,
   "id": "908c7bba",
   "metadata": {},
   "outputs": [],
   "source": [
    "df['overview']=df['overview'].apply(remove_stopwords)"
   ]
  },
  {
   "cell_type": "code",
   "execution_count": 33,
   "id": "46495779",
   "metadata": {},
   "outputs": [
    {
     "name": "stdout",
     "output_type": "stream",
     "text": [
      "0 ***************************** \n",
      " raj   rich carefree happygolucky second generation nri simran   daughter  chaudhary baldev singh   spite    nri   strict  adherence  indian values simran  left  india   married   childhood fiancé raj leaves  india   mission   hands  claim  lady love   noses   whole family thus begins  saga\n",
      "1 ***************************** \n",
      " framed   1940s   double murder   wife   lover upstanding banker andy dufresne begins  new life   shawshank prison   puts  accounting skills  work   amoral warden   long stretch  prison dufresne comes   admired    inmates including  older prisoner named red   integrity  unquenchable sense  hope\n",
      "2 ***************************** \n",
      " spanning  years 1945  1955  chronicle   fictional italianamerican corleone crime family  organized crime family patriarch vito corleone barely survives  attempt   life  youngest son michael steps   take care   wouldbe killers launching  campaign  bloody revenge\n",
      "3 ***************************** \n",
      " professor gabriel emerson finally learns  truth  julia mitchells identity   realization comes  moment  late julia  done waiting   wellrespected dante specialist  remember   wants nothing       gabriel win back  heart   finds love  anothers arms\n",
      "4 ***************************** \n",
      "  true story   businessman oskar schindler saved   thousand jewish lives   nazis   worked  slaves   factory  world war ii\n",
      "5 ***************************** \n",
      "  intriguing  sinful exploration  seduction forbidden love  redemption gabriels inferno   captivating  wildly passionate tale  one mans escape    personal hell   tries  earn  impossibleforgiveness  love\n",
      "6 ***************************** \n",
      "   continuing saga   corleone crime family  young vito corleone grows   sicily   1910s new york   1950s michael corleone attempts  expand  family business  las vegas hollywood  cuba\n",
      "7 ***************************** \n",
      "  final part   film adaption   erotic romance novel gabriels inferno written   anonymous canadian author   pen name sylvain reynard\n",
      "8 ***************************** \n",
      "  8yearold sowon narrowly survives  brutal sexual assault  family labors  help  heal  coping    rage  grief\n",
      "9 ***************************** \n",
      " high schoolers mitsuha  taki  complete strangers living separate lives  one night  suddenly switch places mitsuha wakes   taki’s body      bizarre occurrence continues  happen randomly   two must adjust  lives around  \n",
      "10 ***************************** \n",
      "   aftermath   fourth impact stranded without  evangelions shinji asuka  rei find refuge  one   rare pockets  humanity  still exist   ruined planet earth     live  life far different   days   evangelion pilot however  danger   world  far    new impact  looming   horizon—one   prove    true end  evangelion\n",
      "11 ***************************** \n",
      "  young girl chihiro becomes trapped   strange new world  spirits   parents undergo  mysterious transformation  must call upon  courage  never knew    free  family\n",
      "12 ***************************** \n",
      "  unemployed kitaeks family takes peculiar interest   wealthy  glamorous parks   livelihood   get entangled   unexpected incident\n",
      "13 ***************************** \n",
      "  film centers   love relationship among  bands bassist haruki nakayama drummer akihiko kaji  akihikos roommate  exboyfriend ugetsu murata\n",
      "14 ***************************** \n",
      "  defense   prosecution  rested   jury  filing   jury room  decide   young spanishamerican  guilty  innocent  murdering  father  begins   open  shut case soon becomes  minidrama     jurors prejudices  preconceptions   trial  accused   \n",
      "15 ***************************** \n",
      "  supernatural tale set  death row   southern prison  gentle giant john coffey possesses  mysterious power  heal peoples ailments   cell blocks head guard paul edgecomb recognizes coffeys miraculous gift  tries desperately  help stave   condemned mans execution\n",
      "16 ***************************** \n",
      " batman raises  stakes   war  crime   help  lt jim gordon  district attorney harvey dent batman sets   dismantle  remaining criminal organizations  plague  streets  partnership proves   effective   soon find  prey   reign  chaos unleashed   rising criminal mastermind known   terrified citizens  gotham   joker\n",
      "17 ***************************** \n",
      "  burgerloving hit man  philosophical partner  drugaddled gangsters moll   washedup boxer converge   sprawling comedic crime caper  adventures unfurl  three stories  ingeniously trip back  forth  time\n",
      "18 ***************************** \n",
      " aragorn  revealed   heir   ancient kings   gandalf    members   broken fellowship struggle  save gondor  saurons forces meanwhile frodo  sam take  ring closer   heart  mordor  dark lords realm\n",
      "19 ***************************** \n",
      "  man   low iq  accomplished great things   life   present  significant historic events—in  case far exceeding  anyone imagined  could   despite    achieved  one true love eludes \n",
      "20 ***************************** \n",
      "   civil war rages   union   confederacy three men –  quiet loner  ruthless hit man   mexican bandit – comb  american southwest  search   strongbox containing 200000  stolen gold\n",
      "21 ***************************** \n",
      "  lively jack  cricket   sly chicó  poor guys living   hinterland  cheat  bunch  people   small  northeastern brazil   die     judged  christ  devil   virgin mary    admitted  paradise\n",
      "22 ***************************** \n",
      "   time  superstition  magic  wolves  seen  demonic  nature  evil   tamed  young apprentice hunter comes  ireland   father  wipe   last pack    saves  wild native girl  friendship leads   discover  world   wolfwalkers  transform     thing  father  tasked  destroy\n",
      "23 ***************************** \n",
      "  filmmaker recalls  childhood   fell  love   movies   villages theater  formed  deep friendship   theaters projectionist\n",
      "24 ***************************** \n",
      "  touching story   italian book seller  jewish ancestry  lives    little fairy tale  creative  happy life would come   abrupt halt   entire family  deported   concentration camp  world war ii  locked   tries  convince  son   whole thing    game\n",
      "25 ***************************** \n",
      "  samurai answers  villages request  protection   falls  hard times  town needs protection  bandits   samurai gathers six others  help  teach  people   defend    villagers provide  soldiers  food\n",
      "26 ***************************** \n",
      "  true story  henry hill  halfirish halfsicilian brooklyn kid   adopted  neighbourhood gangsters   early age  climbs  ranks   mafia family   guidance  jimmy conway\n",
      "27 ***************************** \n",
      "  former prohibitionera jewish gangster returns   lower east side  manhattan  thirty years later     must confront  ghosts  regrets   old life\n",
      "28 ***************************** \n",
      "  fujisawa sakuta azusagawa    second year  high school blissful days   girlfriend  upperclassman mai sakurajima  interrupted   appearance   first crush shoko makinohara\n",
      "29 ***************************** \n",
      "  larcenous real estate clerk marion crane goes   lam   wad  cash  hopes  starting  new life  ends    notorious bates motel  manager norman bates cares   housebound mother\n",
      "30 ***************************** \n",
      " shouya ishida starts bullying  new girl  class shouko nishimiya    deaf    teasing continues  rest   class starts  turn  shouya   lack  compassion   leave elementary school shouko  shouya   speak       older wiser shouya tormented   past behaviour decides  must see shouko    wants  atone   sins    already  late\n",
      "31 ***************************** \n",
      " one hot summer day  little girl gets lost   enchanted forest   mountain god  spirits reside  young boy appears     cannot touch   fear  making  disappear    wondrous adventure awaits\n",
      "32 ***************************** \n",
      "  film tells  story  ariel  21yearold  decides  form  rock band  compete   prize  ten thousand dollars   musical band contest    last option  trying  get money  save  relationship  reunite   exgirlfriend  breaks due   trip  must make  finland   internship ariel   friend ortega decides  make  casting  find   members   band although    know nothing  music thus forming  band  members   diverse  opposite personalities\n",
      "33 ***************************** \n",
      " born free   american west black beauty   horse rounded   brought  birtwick stables   meets spirited teenager jo green  two forge  bond  carries beauty   different chapters challenges  adventures\n",
      "34 ***************************** \n",
      "   final months  world war ii 14yearold seita   sister setsuko  orphaned   mother  killed   air raid  kobe japan   falling    aunt  move   abandoned bomb shelter   surviving relatives   emergency rations depleted seita  setsuko struggle  survive\n",
      "35 ***************************** \n",
      "  serving time  insanity   state mental hospital implacable rabblerouser randle patrick mcmurphy inspires  fellow patients  rebel   authoritarian rule  head nurse mildred ratched\n",
      "36 ***************************** \n",
      "  tickingtimebomb insomniac   slippery soap salesman channel primal male aggression   shocking new form  therapy  concept catches   underground fight clubs forming  every town   eccentric gets   way  ignites  outofcontrol spiral toward oblivion\n",
      "37 ***************************** \n",
      " class 1a visits nabu island   finally get    real hero work  place   peaceful    like  vacation …  theyre attacked   villain   unfathomable quirk  power  eerily familiar   looks like shigaraki   hand   plan    might retired  citizens lives   line theres  time  questions deku   friends   next generation  heroes  theyre  islands  hope\n",
      "38 ***************************** \n",
      "    strange   demon lords forces fear  crimson demons  clan   megumin  yunyun originate even   demon lords generals attack  village  crimson demons   easily brush     supreme mastery  advanced  overpowered magic  yunyun receives  seemingly serious letter regarding  potential disaster coming   hometown  immediately informs kazuma satou   rest   party   series  wacky misunderstandings  turns     mere prank   fellow demon  wants    author even  megumin becomes worried   family  sets  toward  crimson demons village   gang  kazuma   others decide  sightsee  wonders  megumins birthplace however  soon come  realize   nonsense threat  received might       joke\n",
      "39 ***************************** \n",
      " downonhisluck veteran tsugumo hanshirō enters  courtyard   prosperous house  iyi unemployed    family  hopes  find  place  commit seppuku—and  worthy second  deliver  coup de grâce   suicide ritual  senior counselor   iyi clan questions  ronin’s resolve  integrity suspecting hanshirō  seeking charity rather   honorable end  follows   pair  interlocking stories  lay bare  difference  honor  respect  promises  examine  legendary foundations   samurai code\n",
      "40 ***************************** \n",
      " buscapé  raised    violent environment despite  feeling   odds     finds   life   seen   eyes\n",
      "41 ***************************** \n",
      " miles morales  juggling  life    high school student    spiderman  wilson kingpin fisk uses  super collider others  across  spiderverse  transported   dimension\n",
      "42 ***************************** \n",
      " presenting  tale  american founding father alexander hamilton  filmed version   original broadway smash hit   story  america  told  america \n",
      "43 ***************************** \n",
      "  sophie  shy young woman  cursed   old body   spiteful witch   chance  breaking  spell lies   selfindulgent yet insecure young wizard   companions   legged walking castle\n",
      "44 ***************************** \n",
      " genndy tartakovskys primal tales  savagery features  caveman   dinosaur   brink  extinction bonded  tragedy  unlikely friendship becomes   hope  survival\n",
      "45 ***************************** \n",
      " young musician zach sobiech discovers  cancer  spread leaving     months  live  limited time  follows  dream  makes  album unaware    soon   viral music phenomenon\n",
      "46 ***************************** \n",
      "  second  two theatrically released followups   neon genesis evangelion series comprising  two alternate episodes   first intended  take  place  episodes 25  26  finale answers many   questions surrounding  series  also opening   new possibilities\n",
      "47 ***************************** \n",
      " tanjirō kamado joined  inosuke hashibira  boy raised  boars  wears  boars head  zenitsu agatsuma  scared boy  reveals  true power   sleeps boards  infinity train   new mission   fire hashira kyōjurō rengoku  defeat  demon    tormenting  people  killing  demon slayers  oppose \n",
      "48 ***************************** \n",
      " peter parker  unmasked   longer able  separate  normal life   highstakes    superhero   asks  help  doctor strange  stakes become even  dangerous forcing   discover   truly means   spiderman\n",
      "49 ***************************** \n",
      "  hack screenwriter writes  screenplay   former silent film star   faded  hollywood obscurity\n",
      "50 ***************************** \n",
      "  epic saga continues  luke skywalker  hopes  defeating  evil galactic empire learns  ways   jedi  aging master yoda  darth vader   determined  ever  capture luke meanwhile rebel leader princess leia cocky han solo chewbacca  droids c3po  r2d2  thrown  various stages  capture betrayal  despair\n",
      "51 ***************************** \n",
      " earth  decimated  intergalactic tyrant darkseid  devastated  justice league   poorly executed war   dc super heroes   remaining bastions  good –  justice league teen titans suicide squad  assorted others – must regroup strategize  take  war  darkseid  order  save  planet   surviving inhabitants\n",
      "52 ***************************** \n",
      "  17 year old finds    girlfriend  dying   sets   give   entire life   last year   left\n",
      "53 ***************************** \n",
      "  true story  pianist władysław szpilmans experiences  warsaw   nazi occupation   jews   city find  forced   ghetto szpilman finds work playing   café    family  deported  1942  stays behind works      laborer  eventually goes  hiding   ruins   wartorn city\n",
      "54 ***************************** \n",
      "   direction   ruthless instructor  talented young drummer begins  pursue perfection   cost even  humanity\n",
      "55 ***************************** \n",
      " derek vineyard  paroled  serving 3 years  prison  killing two africanamerican men   brother danny vineyards narration  learn   going  prison derek   skinhead   leader   violent white supremacist gang  committed acts  racial crime throughout la   actions greatly influenced danny reformed  fresh   prison derek severs contact   gang  becomes determined  keep danny  going    violent path   \n",
      "56 ***************************** \n",
      " young hobbit frodo baggins  inheriting  mysterious ring   uncle bilbo must leave  home  order  keep   falling   hands   evil creator along  way  fellowship  formed  protect  ringbearer  make sure   ring arrives   final destination mt doom   place     destroyed\n",
      "57 ***************************** \n",
      "  new adventure  luì  sofi  contro te     evil mr   time   cinema mr   plotting revenge  working   plan  become  master   world    called  stop  giving  little fans   families fun  lots  surprises\n",
      "58 ***************************** \n",
      "  family dog   nearhuman soul   philosophers mind evaluates  life   lessons learned   human owner  racecar driver\n",
      "59 ***************************** \n",
      " kanji watanabe   middleaged man   worked    monotonous bureaucratic position  decades learning   cancer  starts  look   meaning   life\n",
      "60 ***************************** \n",
      " two years  bringing peace   galaxy steven universe sees  past come back  haunt    form   deranged gem  wants  destroy  earth\n",
      "61 ***************************** \n",
      " dictator adenoid hynkel tries  expand  empire   poor jewish barber tries  avoid persecution  hynkels regime\n",
      "62 ***************************** \n",
      "  adventures   group  explorers  make use   newly discovered wormhole  surpass  limitations  human space travel  conquer  vast distances involved   interstellar voyage\n",
      "63 ***************************** \n",
      " frodo  sam  trekking  mordor  destroy  one ring  power  gimli legolas  aragorn search   orccaptured merry  pippin  along nefarious wizard saruman awaits  fellowship members   orthanc tower  isengard\n",
      "64 ***************************** \n",
      "  wheelchairbound photographer spies   neighbors   apartment window  becomes convinced one    committed murder\n",
      "65 ***************************** \n",
      " cobb  skilled thief  commits corporate espionage  infiltrating  subconscious   targets  offered  chance  regain  old life  payment   task considered   impossible inception  implantation  another persons idea   targets subconscious\n",
      "66 ***************************** \n",
      " ashitaka  prince   disappearing emishi people  cursed   demonized boar god  must journey   west  find  cure along  way  encounters san  young human woman fighting  protect  forest  lady eboshi   trying  destroy  ashitaka must find  way  bring balance   conflict\n",
      "67 ***************************** \n",
      "  bullied teenage girl forms  unlikely friendship   mysterious young man  protects    assailants   copes   pressures   final examinations\n",
      "68 ***************************** \n",
      " determined  ensure supermans ultimate sacrifice    vain bruce wayne aligns forces  diana prince  plans  recruit  team  metahumans  protect  world   approaching threat  catastrophic proportions\n",
      "69 ***************************** \n",
      " maquia   member   special race called  iorph   live  hundreds  years however maquia  always felt lonely despite  surrounded   people    orphaned   young age  daydreams   outside world  dares  travel   home due   warnings   clans chief one day  kingdom  mezarte invades  homeland  already    left   giant dragons  renato   control    king wishes  add  immortality   bloodline  ravage  iorph homeland  kill    inhabitants caught   midst   attack maquia  carried   one   renato  soon dies    left deserted   forest  truly alone save   cries   single baby    distance maquia finds  baby   destroyed village  decides  raise     naming  ariel although  knows nothing   human world   raise  child  ages much faster  \n",
      "70 ***************************** \n",
      "  invasion   village  byelorussia  german forces sends young florya   forest  join  weary resistance fighters   familys wishes   meets  girl glasha  accompanies  back   village  returning home florya finds  family  fellow peasants massacred  continued survival amidst  brutal debris  war becomes increasingly nightmarish  battle  despair  hope\n",
      "71 ***************************** \n",
      " seventeenyearold stella spends    time   hospital   cystic fibrosis patient  life  full  routines boundaries  selfcontrol —    get put   test   meets   impossibly charming teen     illness theres  instant flirtation though restrictions dictate   must maintain  safe distance     connection intensifies    temptation  throw  rules   window  embrace  attraction\n",
      "72 ***************************** \n",
      "   soundera silent film  tramp falls  love   beautiful blind flower seller\n",
      "73 ***************************** \n",
      "  executive   shoe company becomes  victim  extortion   chauffeurs son  kidnapped  held  ransom\n",
      "74 ***************************** \n",
      "  living   ordinary deliveryman  motor racing fan nezha encounters old nemeses  must rediscover  powers  protect  loved ones\n",
      "75 ***************************** \n",
      " two homicide detectives    desperate hunt   serial killer whose crimes  based   seven deadly sins   dark  haunting film  takes viewers   tortured remains  one victim   next  seasoned det sommerset researches  sin   effort  get inside  killers mind   novice partner mills scoffs   efforts  unravel  case\n",
      "76 ***************************** \n",
      "  tramp struggles  live  modern industrial society   help   young homeless woman\n",
      "77 ***************************** \n",
      " clarice starling   top student   fbis training academy jack crawford wants clarice  interview dr hannibal lecter  brilliant psychiatrist   also  violent psychopath serving life behind bars  various acts  murder  cannibalism crawford believes  lecter may  insight   case   starling   attractive young woman may    bait  draw  \n",
      "78 ***************************** \n",
      " three partisans bound   strong friendship return home   war   clash  everyday reality puts  strain   bond\n",
      "79 ***************************** \n",
      "   elite oldfashioned boarding school  new england  passionate english teacher inspires  students  rebel  convention  seize  potential  every day courting  disdain   stern headmaster\n",
      "80 ***************************** \n",
      " léon  top hit man  new york  earned  rep   effective cleaner    nextdoor neighbors  wiped    loosecannon dea agent  becomes  unwilling custodian  12yearold mathilda  long mathildas thoughts turn  revenge   considers following  léons footsteps\n",
      "81 ***************************** \n",
      " isabella  daughter   noble york family  enrolled   allgirls academy   groomed   dame worthy  nobility however   given    future seeing  prestigious school  nothing    prison   outside world  family notices  struggling   lessons  decides  hire violet evergarden  personally tutor    guise   handmaiden  first isabella treats violet coldly violet seems   able   everything perfectly leading isabella  assume    born   silver spoon   time isabella begins  realize  violet     struggles  starts  open    isabella soon reveals    lost contact   beloved younger sister   yearns  see   experienced  power  words   past clientele violet asks  isabella wishes  write  letter  taylor  violet  able  help isabella convey  feelings   longlost sister\n",
      "82 ***************************** \n",
      "   railroad builders advance unstoppably   arizona desert   way   sea jill arrives   small town  flagstone   intention  starting  new life\n",
      "83 ***************************** \n",
      "  2013 something terrible  awakening  londons national gallery  1562  murderous plot  afoot  elizabethan england  somewhere  space  ancient battle reaches  devastating conclusion   reality   stake   doctors  dangerous past comes back  haunt \n",
      "84 ***************************** \n",
      "  elderly shukishi   wife tomi take  long journey   small seaside village  visit  adult children  tokyo  elder son koichi  doctor   daughter shige  hairdresser dont  much time  spend   aged parents    falls  noriko  widow   younger son   killed   war  keep  inlaws company\n",
      "85 ***************************** \n",
      "  commanding officer defends three scapegoats  trial   failed offensive  occurred within  french army  1916\n",
      "86 ***************************** \n",
      "   classmate  crush  diagnosed   pancreatic disease  average high schooler sets   make     final days\n",
      "87 ***************************** \n",
      " eighties teenager marty mcfly  accidentally sent back  time  1955 inadvertently disrupting  parents first meeting  attracting  mothers romantic interest marty must repair  damage  history  rekindling  parents romance    help   eccentric inventor friend doc brown return  1985\n",
      "88 ***************************** \n",
      "  entomologist suffers extreme psychological  sexual torture   taken captive   residents   poor seaside village\n",
      "89 ***************************** \n",
      "   school field trip ladybug  cat noir meet  american superheroes     save   akumatised supervillain  discover  miraculous exist   united states \n",
      "90 ***************************** \n",
      "   vicious slaughter   family  stonecold mercenary subzero hanzo hasashi  exiled   torturous netherrealm   exchange   servitude   sinister quan chi he’s given  chance  avenge  family –   resurrected  scorpion  lost soul bent  revenge back  earthrealm lord raiden gathers  team  elite warriors – shaolin monk liu kang special forces officer sonya blade  action star johnny cage –  unlikely band  heroes  one chance  save humanity     must defeat shang tsung’s horde  outworld gladiators  reign   mortal kombat tournament\n",
      "91 ***************************** \n",
      " 1930s korea   period  japanese occupation  young woman  hired   handmaiden   japanese heiress  lives  secluded life   large countryside estate   domineering uncle  shes involved  something greater   soon  revealed\n",
      "92 ***************************** \n",
      "  story   virtuoso piano player  lives  entire life aboard  ocean liner born  raised   ship 1900 tim roth learned   outside world  interactions  passengers never setting foot  land even   love   life years later  ship may  destroyed   former band member fears  1900 may still  aboard willing  go    ship\n",
      "93 ***************************** \n",
      "  peculiar neighbor offers hope   recent widow   struggling  raise  teenager   unpredictable  sometimes violent\n",
      "94 ***************************** \n",
      " separated   daughter  father   intellectual disability must prove  innocence    jailed   death   commanders child\n",
      "95 ***************************** \n",
      "  jesper distinguishes    postal academys worst student   sent  smeerensburg  small village located   icy island   arctic circle  grumpy inhabitants barely exchange words let alone letters jesper    give   abandon  duty   postman   meets local teacher alva  klaus  mysterious carpenter  lives alone   cabin full  handmade toys\n",
      "96 ***************************** \n",
      "   night  plans  taking   life 17yearold lisa mcvey  kidnapped  finds  fighting  stay alive  manages    victim  rape  manages  talk  attacker  releasing     returns home  one believes  story except  one detective  suspects   abducted   serial killer based  horrifying true events\n",
      "97 ***************************** \n",
      "   height   vietnam war captain benjamin willard  sent   dangerous mission  officially   exist    ever exist  goal   locate  eliminate  mysterious green beret colonel named walter kurtz    leading  personal army  illegal guerrilla missions  enemy territory\n",
      "98 ***************************** \n",
      "   devastating events  avengers infinity war  universe   ruins due   efforts   mad titan thanos   help  remaining allies  avengers must assemble    order  undo thanos actions  restore order   universe      matter  consequences may   store\n",
      "99 ***************************** \n",
      "  retired pop singer turned actress sense  reality  shaken    stalked   obsessed fan  seemingly  ghost   past\n"
     ]
    }
   ],
   "source": [
    "for i in range(100):\n",
    "    print(i,'*****************************','\\n',df['overview'][i])"
   ]
  },
  {
   "cell_type": "code",
   "execution_count": 34,
   "id": "3452c8f2",
   "metadata": {},
   "outputs": [],
   "source": [
    "# 9. Tokenization\n",
    "from nltk.tokenize import word_tokenize"
   ]
  },
  {
   "cell_type": "code",
   "execution_count": 35,
   "id": "3bd22598",
   "metadata": {},
   "outputs": [
    {
     "data": {
      "text/plain": [
       "0       [raj, rich, carefree, happygolucky, second, ge...\n",
       "1       [framed, 1940s, double, murder, wife, lover, u...\n",
       "2       [spanning, years, 1945, 1955, chronicle, ficti...\n",
       "3       [professor, gabriel, emerson, finally, learns,...\n",
       "4       [true, story, businessman, oskar, schindler, s...\n",
       "                              ...                        \n",
       "9415    [global, superpowers, engaged, increasingly, h...\n",
       "9416    [fifteen, directors, allstar, cast, created, t...\n",
       "9417    [jason, voorhees, living, breathing, essence, ...\n",
       "9418    [world, overrun, zombies, military, personnel,...\n",
       "9419    [since, triumphant, rise, power, original, blo...\n",
       "Name: overview, Length: 9420, dtype: object"
      ]
     },
     "execution_count": 35,
     "metadata": {},
     "output_type": "execute_result"
    }
   ],
   "source": [
    "df['overview'].apply(word_tokenize)"
   ]
  },
  {
   "cell_type": "code",
   "execution_count": 36,
   "id": "761de517",
   "metadata": {},
   "outputs": [],
   "source": [
    "# 10. Stemming \n",
    "from nltk.stem.porter import PorterStemmer"
   ]
  },
  {
   "cell_type": "code",
   "execution_count": 37,
   "id": "7bc96ec2",
   "metadata": {},
   "outputs": [],
   "source": [
    "ps=PorterStemmer()"
   ]
  },
  {
   "cell_type": "code",
   "execution_count": 38,
   "id": "568edf77",
   "metadata": {},
   "outputs": [],
   "source": [
    "def stem_words(text):\n",
    "    return \" \".join(ps.stem(word) for word in text.split())"
   ]
  },
  {
   "cell_type": "code",
   "execution_count": 39,
   "id": "be895057",
   "metadata": {},
   "outputs": [],
   "source": [
    "df['overview']=df['overview'].apply(stem_words)"
   ]
  },
  {
   "cell_type": "code",
   "execution_count": 41,
   "id": "f24dbc6d",
   "metadata": {},
   "outputs": [
    {
     "data": {
      "text/plain": [
       "'raj rich carefre happygolucki second gener nri simran daughter chaudhari baldev singh spite nri strict adher indian valu simran left india marri childhood fiancé raj leav india mission hand claim ladi love nose whole famili thu begin saga'"
      ]
     },
     "execution_count": 41,
     "metadata": {},
     "output_type": "execute_result"
    }
   ],
   "source": [
    "df['overview'][0]"
   ]
  },
  {
   "cell_type": "code",
   "execution_count": null,
   "id": "ef6465b0",
   "metadata": {},
   "outputs": [],
   "source": []
  }
 ],
 "metadata": {
  "kernelspec": {
   "display_name": "Python 3 (ipykernel)",
   "language": "python",
   "name": "python3"
  },
  "language_info": {
   "codemirror_mode": {
    "name": "ipython",
    "version": 3
   },
   "file_extension": ".py",
   "mimetype": "text/x-python",
   "name": "python",
   "nbconvert_exporter": "python",
   "pygments_lexer": "ipython3",
   "version": "3.9.4"
  }
 },
 "nbformat": 4,
 "nbformat_minor": 5
}
